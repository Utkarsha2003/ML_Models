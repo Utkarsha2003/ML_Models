{
 "cells": [
  {
   "cell_type": "code",
   "execution_count": 6,
   "id": "4a84a681-e031-4acc-be5d-36d07234d27d",
   "metadata": {},
   "outputs": [],
   "source": [
    "# Import necessary libraries\n",
    "import numpy as np\n",
    "import matplotlib.pyplot as plt\n",
    "import pandas as pd"
   ]
  },
  {
   "cell_type": "code",
   "execution_count": 11,
   "id": "b3147de6-e803-426b-b3e0-8f984c194139",
   "metadata": {},
   "outputs": [],
   "source": [
    "# Load the dataset\n",
    "dataset = pd.read_csv(r\"C:\\Users\\user\\Data.csv\")  # Use raw string to avoid escape issues\n",
    "\n",
    "# Separate features (X) and target variable (y)\n",
    "#slicing\n",
    "P = dataset.iloc[:, :-1].values  # All rows, all columns except the last\n",
    "Q = dataset.iloc[:, -1].values   # All rows, only the last column\n",
    "R = dataset.iloc[:, :].values   # All rows, all columns"
   ]
  },
  {
   "cell_type": "code",
   "execution_count": 12,
   "id": "186eabe4-e450-4361-b9f0-4e7bc01c2543",
   "metadata": {
    "panel-layout": {
     "height": 9.5367431640625e-07,
     "visible": true,
     "width": 100
    }
   },
   "outputs": [
    {
     "name": "stdout",
     "output_type": "stream",
     "text": [
      "[['France' 44.0 72000.0]\n",
      " ['Spain' 27.0 48000.0]\n",
      " ['Germany' 30.0 54000.0]\n",
      " ['Spain' 38.0 61000.0]\n",
      " ['Germany' 40.0 nan]\n",
      " ['France' 35.0 58000.0]\n",
      " ['Spain' nan 52000.0]\n",
      " ['France' 48.0 79000.0]\n",
      " ['Germany' 50.0 83000.0]\n",
      " ['France' 37.0 67000.0]]\n"
     ]
    }
   ],
   "source": [
    "print(P)"
   ]
  },
  {
   "cell_type": "code",
   "execution_count": 13,
   "id": "1f180eaa-b151-4103-b823-460dd94bc7b2",
   "metadata": {
    "panel-layout": {
     "height": 9.5367431640625e-07,
     "visible": true,
     "width": 100
    }
   },
   "outputs": [
    {
     "name": "stdout",
     "output_type": "stream",
     "text": [
      "['No' 'Yes' 'No' 'No' 'Yes' 'Yes' 'No' 'Yes' 'No' 'Yes']\n"
     ]
    }
   ],
   "source": [
    "print(Q)"
   ]
  },
  {
   "cell_type": "code",
   "execution_count": 14,
   "id": "d5aa105a-24b2-481b-bd5f-c480ace0f1bc",
   "metadata": {
    "panel-layout": {
     "height": 9.5367431640625e-07,
     "visible": true,
     "width": 100
    }
   },
   "outputs": [
    {
     "name": "stdout",
     "output_type": "stream",
     "text": [
      "[['France' 44.0 72000.0 'No']\n",
      " ['Spain' 27.0 48000.0 'Yes']\n",
      " ['Germany' 30.0 54000.0 'No']\n",
      " ['Spain' 38.0 61000.0 'No']\n",
      " ['Germany' 40.0 nan 'Yes']\n",
      " ['France' 35.0 58000.0 'Yes']\n",
      " ['Spain' nan 52000.0 'No']\n",
      " ['France' 48.0 79000.0 'Yes']\n",
      " ['Germany' 50.0 83000.0 'No']\n",
      " ['France' 37.0 67000.0 'Yes']]\n"
     ]
    }
   ],
   "source": [
    "print(R)"
   ]
  },
  {
   "cell_type": "code",
   "execution_count": 15,
   "id": "9e32f7bb-d889-4795-85ec-615968f9655c",
   "metadata": {},
   "outputs": [],
   "source": [
    "# Import SimpleImputer for handling missing data\n",
    "from sklearn.impute import SimpleImputer\n",
    "X = np.array([\n",
    "    ['France', 44.0, 72000.0, 'No'],\n",
    "    ['Spain', 27.0, 48000.0, 'Yes'],\n",
    "    ['Germany', 30.0, 54000.0, 'No'],\n",
    "    ['Spain', 38.0, 61000.0, 'No'],\n",
    "    ['Germany', 40.0, np.nan, 'Yes'],\n",
    "    ['France', 35.0, 58000.0, 'Yes'],\n",
    "    ['Spain', np.nan, 52000.0, 'No'],\n",
    "    ['France', 48.0, 79000.0, 'Yes'],\n",
    "    ['Germany', 50.0, 83000.0, 'No'],\n",
    "    ['France', 37.0, 67000.0, 'Yes']\n",
    "], dtype=object)\n",
    "# dtype=object allows you to store strings, floats, integers, and other data types together in one array.\n",
    "\n",
    "# Replace missing values with the mean\n",
    "imputer = SimpleImputer(missing_values=np.nan, strategy='mean')\n",
    "# missing_values=np.nan: Specifies that missing values in the dataset are represented as np.nan (NumPy's \"Not a Number\").\n",
    "# strategy='mean': Specifies that missing values should be replaced with the mean of the corresponding column\n",
    "\n",
    "\n",
    "imputer.fit(X[:, 1:3])  # Fit imputer on the 2nd and 3rd columns (Age, Salary)\n",
    "# :: Refers to all rows (select all rows of the matrix).\n",
    "# 1:3: Refers to the 2nd and 3rd columns (column indices 1 and 2).\n",
    "# Example:\n",
    "# Index-Column\n",
    "# 0-Country\n",
    "# 1-Age\n",
    "# 2-Salary\n",
    "# 3-Purchased\n",
    "# The syntax 1:3 is a slice that includes:\n",
    "# Start index (1): The slicing starts at column index 1 (inclusive).\n",
    "# End index (3): The slicing stops just before column index 3 (exclusive).\n",
    "\n",
    "X[:, 1:3] = imputer.transform(X[:, 1:3])  # Apply transformation\n",
    "# .transform(): This replaces the missing values in the selected columns with the mean (or the value calculated during the .fit() step).\n",
    "# Assignment to X[:, 1:3]: Updates the original dataset X with the imputed values."
   ]
  },
  {
   "cell_type": "code",
   "execution_count": 16,
   "id": "7c7fd333-00ca-4e52-8ecf-5c0a3f8dc928",
   "metadata": {
    "panel-layout": {
     "height": 9.5367431640625e-07,
     "visible": true,
     "width": 100
    }
   },
   "outputs": [
    {
     "name": "stdout",
     "output_type": "stream",
     "text": [
      "[['France' 44.0 72000.0 'No']\n",
      " ['Spain' 27.0 48000.0 'Yes']\n",
      " ['Germany' 30.0 54000.0 'No']\n",
      " ['Spain' 38.0 61000.0 'No']\n",
      " ['Germany' 40.0 63777.77777777778 'Yes']\n",
      " ['France' 35.0 58000.0 'Yes']\n",
      " ['Spain' 38.77777777777778 52000.0 'No']\n",
      " ['France' 48.0 79000.0 'Yes']\n",
      " ['Germany' 50.0 83000.0 'No']\n",
      " ['France' 37.0 67000.0 'Yes']]\n"
     ]
    }
   ],
   "source": [
    "print(X)"
   ]
  },
  {
   "cell_type": "code",
   "execution_count": 17,
   "id": "42c11230-a8fc-4363-a446-6a3d7c55ce7a",
   "metadata": {
    "panel-layout": {
     "height": 10.000001907348633,
     "visible": true,
     "width": 100
    }
   },
   "outputs": [
    {
     "data": {
      "text/plain": [
       "numpy.ndarray"
      ]
     },
     "execution_count": 17,
     "metadata": {},
     "output_type": "execute_result"
    }
   ],
   "source": [
    "type(X) #X is in array format"
   ]
  },
  {
   "cell_type": "code",
   "execution_count": 18,
   "id": "9bd46733-ab43-4aef-b495-7e8ef2311a2e",
   "metadata": {
    "panel-layout": {
     "height": 9.5367431640625e-07,
     "visible": true,
     "width": 100
    }
   },
   "outputs": [
    {
     "name": "stdout",
     "output_type": "stream",
     "text": [
      "[[1.0 0.0 0.0 44.0 72000.0 'No']\n",
      " [0.0 0.0 1.0 27.0 48000.0 'Yes']\n",
      " [0.0 1.0 0.0 30.0 54000.0 'No']\n",
      " [0.0 0.0 1.0 38.0 61000.0 'No']\n",
      " [0.0 1.0 0.0 40.0 63777.77777777778 'Yes']\n",
      " [1.0 0.0 0.0 35.0 58000.0 'Yes']\n",
      " [0.0 0.0 1.0 38.77777777777778 52000.0 'No']\n",
      " [1.0 0.0 0.0 48.0 79000.0 'Yes']\n",
      " [0.0 1.0 0.0 50.0 83000.0 'No']\n",
      " [1.0 0.0 0.0 37.0 67000.0 'Yes']]\n"
     ]
    }
   ],
   "source": [
    "#missing numerical data can be easily replaced but what if, the country name is missing then how will the python package will know there is a missing value in country, we will use countries as categorical data, we will encode the 3 countries(germany, spain ,france) into categories\n",
    "#encoding categorical data\n",
    "#encoding independent variable\n",
    "from sklearn.compose import ColumnTransformer\n",
    "# ColumnTransformer: This class helps in applying different preprocessing steps to specific columns in the dataset.\n",
    "\n",
    "from sklearn.preprocessing import OneHotEncoder\n",
    "# one-hot encoding converts each category (e.g., 'France', 'Spain', 'Germany') into a separate column and assigns binary values (0 or 1) based on the presence of that category for each row.\n",
    "# If you have a \"Country\" column with three possible values: 'France', 'Spain', 'Germany', it will be converted into three columns:\n",
    "# One column for France, One column for Spain, One column for Germany\n",
    "# For a row where the country is France, it would look like:\n",
    "# [1, 0, 0]\n",
    "# For a row where the country is Spain, it would look like:\n",
    "# [0, 1, 0]\n",
    "\n",
    "\n",
    "ct = ColumnTransformer(transformers=[('encoder', OneHotEncoder(), [0])], remainder='passthrough')\n",
    "# ColumnTransformer: This class helps in applying different preprocessing steps to specific columns in the dataset.\n",
    "# transformers=[('encoder', OneHotEncoder(), [0])]:\n",
    "# The first argument, encoder, is a name for the transformer. It’s used for reference and doesn’t affect the process.\n",
    "# OneHotEncoder() specifies that the OneHotEncoder should be applied to the column(s).\n",
    "# [0]: This is the index of the column to which the encoder should be applied. The value 0 refers to the first column (in your case, the \"Country\" column).\n",
    "# remainder='passthrough':\n",
    "# This means that all columns other than the ones selected for transformation (the \"Country\" column in this case) will be left unchanged and passed through without any transformation\n",
    "\n",
    "X = np.array(ct.fit_transform(X))\n",
    "# ct.fit_transform(X):\n",
    "# This fits the one-hot encoder on the data (learns how to encode the country column), then transforms the dataset (X).The result is an array where the first column (Country) is encoded into several binary columns, and the rest of the data remains the same.\n",
    "\n",
    "# np.array(ct.fit_transform(X)):\n",
    "# A sparse matrix is a matrix where most of the elements are zero. It is a memory-efficient way of storing such matrices. Instead of storing all zeros, sparse matrices only store the non-zero elements along with their indices.eg{row: [column], value: [value]}\n",
    "# libraries like scikit-learn store the result of transformations like one-hot encoding as a sparse matrix by default to save memory.\n",
    "# When you call np.array() on the result of fit_transform(), it converts the sparse matrix into a dense matrix (a standard NumPy array)\n",
    "\n",
    "\n",
    "print(X)"
   ]
  },
  {
   "cell_type": "code",
   "execution_count": 22,
   "id": "13a0e41e-8d8c-43a1-8af6-9a7122915c3c",
   "metadata": {},
   "outputs": [
    {
     "name": "stdout",
     "output_type": "stream",
     "text": [
      "[0 1 0 0 1 1 0 1 0 1]\n"
     ]
    }
   ],
   "source": [
    "#how will the python package will know there is a missing value in yes/no column, we will use yes/no as categorical data\n",
    "#encoding dependent variable\n",
    "from sklearn.preprocessing import LabelEncoder\n",
    "le = LabelEncoder()\n",
    "# Initialize the LabelEncoder\n",
    "# The LabelEncoder automatically assigns values as follows:\n",
    "# \"No\" → 0\n",
    "# \"Yes\" → 1\n",
    "\n",
    "Q = le.fit_transform(Q)\n",
    "# The fit() function identifies the unique labels in the input data and assigns each label a numeric value.\n",
    "# The transform() function converts the input labels into their corresponding numeric values based on the mapping created by fit().\n",
    "# fit_transform() combines both steps into one operation.\n",
    "\n",
    "print(Q)"
   ]
  },
  {
   "cell_type": "code",
   "execution_count": 27,
   "id": "028b54c5-fdaf-44a4-a7a3-c4fcb4498100",
   "metadata": {},
   "outputs": [
    {
     "name": "stdout",
     "output_type": "stream",
     "text": [
      "X_train: [[0.0 0.0 1.0 38.77777777777778 52000.0 'No']\n",
      " [0.0 1.0 0.0 40.0 63777.77777777778 'Yes']\n",
      " [1.0 0.0 0.0 44.0 72000.0 'No']\n",
      " [0.0 0.0 1.0 38.0 61000.0 'No']\n",
      " [0.0 0.0 1.0 27.0 48000.0 'Yes']\n",
      " [1.0 0.0 0.0 48.0 79000.0 'Yes']\n",
      " [0.0 1.0 0.0 50.0 83000.0 'No']\n",
      " [1.0 0.0 0.0 35.0 58000.0 'Yes']] \n",
      "\n",
      "X_test: [[0.0 1.0 0.0 30.0 54000.0 'No']\n",
      " [1.0 0.0 0.0 37.0 67000.0 'Yes']] \n",
      "\n",
      "Q_train: [0 1 0 0 1 1 0 1] \n",
      "\n",
      "Q_test: [0 1] \n",
      "\n"
     ]
    }
   ],
   "source": [
    "#splitting dataset into training and testing set\n",
    "from sklearn.model_selection import train_test_split\n",
    "X_train, X_test, Q_train, Q_test = train_test_split(X, Q, test_size=0.2, random_state=1)\n",
    "# random_state=1, randomizes the data and then split into training and testing\n",
    "# test_size=0.2 , generally we do 80% training set and 20% testing set\n",
    "#X_train, X_test- traineng and testing of independent variables\n",
    "#y_train, y_test- traineng and testing of dependent variables\n",
    "print('X_train:', X_train,'\\n')\n",
    "print('X_test:',X_test,'\\n')\n",
    "print('Q_train:',Q_train,'\\n')\n",
    "print('Q_test:',Q_test,'\\n')\n"
   ]
  },
  {
   "cell_type": "code",
   "execution_count": 35,
   "id": "bb556adf-0272-4f24-817b-d907b4f739ca",
   "metadata": {},
   "outputs": [],
   "source": [
    "# feature scaling\n",
    "#applying standarddization\n",
    "from sklearn.preprocessing import StandardScaler\n",
    "\n",
    "sc = StandardScaler()\n",
    "\n",
    "# Scale only the numeric columns (Age and Salary, indexes 1 and 2)\n",
    "X_train[:, 1:3] = sc.fit_transform(X_train[:, 1:3])  # Columns at index 1 and 2 (Age and Salary)\n",
    "X_test[:, 1:3] = sc.transform(X_test[:, 1:3])  # Apply the same transformation to X_test"
   ]
  },
  {
   "cell_type": "code",
   "execution_count": 32,
   "id": "0e9893e7-eb52-4642-8c81-4acbedf14798",
   "metadata": {},
   "outputs": [
    {
     "name": "stdout",
     "output_type": "stream",
     "text": [
      "X_train after scaling:\n",
      " [[0.0 -0.5773502691896258 1.2909944487358058 38.77777777777778 52000.0\n",
      "  'No']\n",
      " [0.0 1.7320508075688774 -0.7745966692414835 40.0 63777.77777777778 'Yes']\n",
      " [1.0 -0.5773502691896258 -0.7745966692414835 44.0 72000.0 'No']\n",
      " [0.0 -0.5773502691896258 1.2909944487358058 38.0 61000.0 'No']\n",
      " [0.0 -0.5773502691896258 1.2909944487358058 27.0 48000.0 'Yes']\n",
      " [1.0 -0.5773502691896258 -0.7745966692414835 48.0 79000.0 'Yes']\n",
      " [0.0 1.7320508075688774 -0.7745966692414835 50.0 83000.0 'No']\n",
      " [1.0 -0.5773502691896258 -0.7745966692414835 35.0 58000.0 'Yes']]\n"
     ]
    }
   ],
   "source": [
    "print(\"X_train after scaling:\\n\", X_train)"
   ]
  },
  {
   "cell_type": "code",
   "execution_count": 33,
   "id": "583c970c-52a1-459f-bc7c-b92fcaacfbc1",
   "metadata": {},
   "outputs": [
    {
     "name": "stdout",
     "output_type": "stream",
     "text": [
      "X_test after scaling:\n",
      " [[0.0 1.7320508075688774 -0.7745966692414835 30.0 54000.0 'No']\n",
      " [1.0 -0.5773502691896258 -0.7745966692414835 37.0 67000.0 'Yes']]\n"
     ]
    }
   ],
   "source": [
    "print(\"X_test after scaling:\\n\", X_test)"
   ]
  },
  {
   "cell_type": "code",
   "execution_count": null,
   "id": "e230888a-a2f3-4232-8e3a-9d661f1f8828",
   "metadata": {},
   "outputs": [],
   "source": []
  }
 ],
 "metadata": {
  "kernelspec": {
   "display_name": "Python 3 (ipykernel)",
   "language": "python",
   "name": "python3"
  },
  "language_info": {
   "codemirror_mode": {
    "name": "ipython",
    "version": 3
   },
   "file_extension": ".py",
   "mimetype": "text/x-python",
   "name": "python",
   "nbconvert_exporter": "python",
   "pygments_lexer": "ipython3",
   "version": "3.12.7"
  },
  "panel-cell-order": [
   "186eabe4-e450-4361-b9f0-4e7bc01c2543",
   "1f180eaa-b151-4103-b823-460dd94bc7b2",
   "d5aa105a-24b2-481b-bd5f-c480ace0f1bc",
   "7c7fd333-00ca-4e52-8ecf-5c0a3f8dc928",
   "42c11230-a8fc-4363-a446-6a3d7c55ce7a",
   "9bd46733-ab43-4aef-b495-7e8ef2311a2e"
  ]
 },
 "nbformat": 4,
 "nbformat_minor": 5
}
