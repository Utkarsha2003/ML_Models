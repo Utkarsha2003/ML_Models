{
 "cells": [
  {
   "cell_type": "code",
   "execution_count": 5,
   "id": "024135b2-6a68-4538-9a70-2154d46c2904",
   "metadata": {},
   "outputs": [
    {
     "name": "stdout",
     "output_type": "stream",
     "text": [
      "E:\\anaconda\\python.exe\n"
     ]
    }
   ],
   "source": [
    "import sys\n",
    "print(sys.executable)"
   ]
  },
  {
   "cell_type": "code",
   "execution_count": 6,
   "id": "3f3666a5-1673-4f28-a269-ebbe9584bea4",
   "metadata": {},
   "outputs": [
    {
     "name": "stdout",
     "output_type": "stream",
     "text": [
      "E:\\anaconda\\python.exe\n",
      "C:\\Users\\user\\AppData\\Local\\Microsoft\\WindowsApps\\python.exe\n",
      "E:\\anaconda\\python.exe\n"
     ]
    }
   ],
   "source": [
    "!where python\n",
    "import sys\n",
    "print(sys.executable)\n"
   ]
  },
  {
   "cell_type": "code",
   "execution_count": 1,
   "id": "04611637-f4dd-4766-8ae6-375c7c65975f",
   "metadata": {},
   "outputs": [],
   "source": [
    "import os\n",
    "import random\n",
    "import shutil\n",
    "import numpy as np\n",
    "import matplotlib.pyplot as plt\n",
    "from imutils import paths\n",
    "from sklearn.metrics import classification_report, confusion_matrix\n",
    "\n",
    "import tensorflow as tf\n",
    "from tensorflow.keras import backend as K\n",
    "from tensorflow.keras.utils import to_categorical\n",
    "from tensorflow.keras.preprocessing.image import ImageDataGenerator"
   ]
  },
  {
   "cell_type": "code",
   "execution_count": 2,
   "id": "f500a3a0-d148-4348-b65b-176efffb775e",
   "metadata": {},
   "outputs": [],
   "source": [
    "# Paths and constants\n",
    "INPUT_DATASET = \"breastCancerData/original\"\n",
    "BASE_PATH = \"breastCancerData/idc\"\n",
    "TRAIN_PATH = os.path.join(BASE_PATH, \"training\")\n",
    "VAL_PATH = os.path.join(BASE_PATH, \"validation\")\n",
    "TEST_PATH = os.path.join(BASE_PATH, \"testing\")\n",
    "TRAIN_SPLIT = 0.8\n",
    "VAL_SPLIT = 0.1\n",
    "BS = 32\n",
    "NUM_EPOCHS = 1\n",
    "INIT_LR = 1e-2"
   ]
  },
  {
   "cell_type": "code",
   "execution_count": 3,
   "id": "4247c107-5a5d-4836-8dda-be5aa7b81c14",
   "metadata": {},
   "outputs": [],
   "source": [
    "# Create base path if it doesn't exist\n",
    "if not os.path.exists(BASE_PATH):\n",
    "    os.makedirs(BASE_PATH)"
   ]
  },
  {
   "cell_type": "code",
   "execution_count": 4,
   "id": "03549623-0915-473c-be96-e0db07e5819b",
   "metadata": {},
   "outputs": [],
   "source": [
    "# Load and shuffle image paths\n",
    "originalPaths = list(paths.list_images(INPUT_DATASET))\n",
    "random.seed(7)\n",
    "random.shuffle(originalPaths)"
   ]
  },
  {
   "cell_type": "code",
   "execution_count": 5,
   "id": "808b97e3-c034-44e2-824b-17228dcceb48",
   "metadata": {},
   "outputs": [],
   "source": [
    "# Split into train, val, test\n",
    "index = int(len(originalPaths) * TRAIN_SPLIT)\n",
    "trainPaths = originalPaths[:index]\n",
    "testPaths = originalPaths[index:]\n",
    "\n",
    "index = int(len(trainPaths) * VAL_SPLIT)\n",
    "valPaths = trainPaths[:index]\n",
    "trainPaths = trainPaths[index:]"
   ]
  },
  {
   "cell_type": "code",
   "execution_count": 6,
   "id": "73d247e7-ff8b-4b49-a516-238efac6acc3",
   "metadata": {},
   "outputs": [
    {
     "name": "stdout",
     "output_type": "stream",
     "text": [
      "Building training set\n",
      "Building validation set\n",
      "Building testing set\n"
     ]
    }
   ],
   "source": [
    "datasets = [(\"training\", trainPaths, TRAIN_PATH),\n",
    "            (\"validation\", valPaths, VAL_PATH),\n",
    "            (\"testing\", testPaths, TEST_PATH)]\n",
    "\n",
    "for (setType, imagePaths, basePath) in datasets:\n",
    "    print(f\"Building {setType} set\")\n",
    "    if not os.path.exists(basePath):\n",
    "        os.makedirs(basePath)\n",
    "\n",
    "    for path in imagePaths:\n",
    "        file = path.split(os.path.sep)[-1]\n",
    "        label = file[-5:-4]\n",
    "        labelPath = os.path.join(basePath, label)\n",
    "\n",
    "        if not os.path.exists(labelPath):\n",
    "            os.makedirs(labelPath)\n",
    "\n",
    "        newPath = os.path.join(labelPath, file)\n",
    "        if not os.path.exists(newPath):\n",
    "            shutil.copy2(path, newPath)\n"
   ]
  },
  {
   "cell_type": "code",
   "execution_count": 7,
   "id": "85a6d0b2-3433-4288-acd2-0ac6c05893ea",
   "metadata": {},
   "outputs": [],
   "source": [
    "# Model Definition\n",
    "class CancerNet:\n",
    "    @staticmethod\n",
    "    def build(width, height, depth, classes):\n",
    "        model = tf.keras.models.Sequential()\n",
    "        shape = (height, width, depth)\n",
    "        channelDim = -1\n",
    "\n",
    "        if K.image_data_format() == \"channels_first\":\n",
    "            shape = (depth, height, width)\n",
    "            channelDim = 1\n",
    "\n",
    "        model.add(tf.keras.layers.Conv2D(32, (3, 3), activation='relu', input_shape=shape))\n",
    "        model.add(tf.keras.layers.BatchNormalization(axis=channelDim))\n",
    "        model.add(tf.keras.layers.MaxPooling2D(pool_size=(2, 2)))\n",
    "        model.add(tf.keras.layers.Dropout(0.25))\n",
    "\n",
    "        model.add(tf.keras.layers.Conv2D(64, (3, 3), activation='relu'))\n",
    "        model.add(tf.keras.layers.BatchNormalization(axis=channelDim))\n",
    "        model.add(tf.keras.layers.Conv2D(64, (3, 3), activation='relu'))\n",
    "        model.add(tf.keras.layers.BatchNormalization(axis=channelDim))\n",
    "        model.add(tf.keras.layers.MaxPooling2D(pool_size=(2, 2)))\n",
    "        model.add(tf.keras.layers.Dropout(0.25))\n",
    "\n",
    "        model.add(tf.keras.layers.Conv2D(64, (3, 3), activation='relu'))\n",
    "        model.add(tf.keras.layers.BatchNormalization(axis=channelDim))\n",
    "        model.add(tf.keras.layers.Conv2D(64, (3, 3), activation='relu'))\n",
    "        model.add(tf.keras.layers.BatchNormalization(axis=channelDim))\n",
    "        model.add(tf.keras.layers.MaxPooling2D(pool_size=(2, 2)))\n",
    "        model.add(tf.keras.layers.Dropout(0.25))\n",
    "\n",
    "        model.add(tf.keras.layers.Flatten())\n",
    "        model.add(tf.keras.layers.Dense(256, activation='relu'))\n",
    "        model.add(tf.keras.layers.BatchNormalization())\n",
    "        model.add(tf.keras.layers.Dropout(0.5))\n",
    "        model.add(tf.keras.layers.Dense(classes, activation='softmax'))\n",
    "\n",
    "        return model"
   ]
  },
  {
   "cell_type": "code",
   "execution_count": 8,
   "id": "f5e58f8c-02fb-4fbe-a190-02d899f20783",
   "metadata": {},
   "outputs": [
    {
     "name": "stdout",
     "output_type": "stream",
     "text": [
      "Found 199818 images belonging to 2 classes.\n",
      "Found 22201 images belonging to 2 classes.\n",
      "Found 55505 images belonging to 2 classes.\n"
     ]
    }
   ],
   "source": [
    "# Image Generators\n",
    "trainAug = ImageDataGenerator(\n",
    "    rescale=1./255,\n",
    "    rotation_range=20,\n",
    "    zoom_range=0.05,\n",
    "    width_shift_range=0.1,\n",
    "    height_shift_range=0.1,\n",
    "    shear_range=0.05,\n",
    "    horizontal_flip=True,\n",
    "    vertical_flip=True,\n",
    "    fill_mode=\"nearest\"\n",
    ")\n",
    "\n",
    "valAug = ImageDataGenerator(rescale=1./255)\n",
    "\n",
    "trainGen = trainAug.flow_from_directory(\n",
    "    TRAIN_PATH,\n",
    "    class_mode=\"categorical\",\n",
    "    target_size=(48, 48),\n",
    "    color_mode=\"rgb\",\n",
    "    shuffle=True,\n",
    "    batch_size=BS\n",
    ")\n",
    "\n",
    "valGen = valAug.flow_from_directory(\n",
    "    VAL_PATH,\n",
    "    class_mode=\"categorical\",\n",
    "    target_size=(48, 48),\n",
    "    color_mode=\"rgb\",\n",
    "    shuffle=False,\n",
    "    batch_size=BS\n",
    ")\n",
    "\n",
    "testGen = valAug.flow_from_directory(\n",
    "    TEST_PATH,\n",
    "    class_mode=\"categorical\",\n",
    "    target_size=(48, 48),\n",
    "    color_mode=\"rgb\",\n",
    "    shuffle=False,\n",
    "    batch_size=BS\n",
    ")"
   ]
  },
  {
   "cell_type": "code",
   "execution_count": 9,
   "id": "28057f70-3456-467b-88f5-92433e1eb277",
   "metadata": {},
   "outputs": [
    {
     "name": "stderr",
     "output_type": "stream",
     "text": [
      "C:\\Users\\user\\AppData\\Roaming\\Python\\Python312\\site-packages\\keras\\src\\layers\\convolutional\\base_conv.py:113: UserWarning: Do not pass an `input_shape`/`input_dim` argument to a layer. When using Sequential models, prefer using an `Input(shape)` object as the first layer in the model instead.\n",
      "  super().__init__(activity_regularizer=activity_regularizer, **kwargs)\n",
      "C:\\Users\\user\\AppData\\Roaming\\Python\\Python312\\site-packages\\keras\\src\\trainers\\data_adapters\\py_dataset_adapter.py:121: UserWarning: Your `PyDataset` class should call `super().__init__(**kwargs)` in its constructor. `**kwargs` can include `workers`, `use_multiprocessing`, `max_queue_size`. Do not pass these arguments to `fit()`, as they will be ignored.\n",
      "  self._warn_if_super_not_called()\n"
     ]
    },
    {
     "name": "stdout",
     "output_type": "stream",
     "text": [
      "\u001b[1m6245/6245\u001b[0m \u001b[32m━━━━━━━━━━━━━━━━━━━━\u001b[0m\u001b[37m\u001b[0m \u001b[1m4582s\u001b[0m 731ms/step - accuracy: 0.8219 - loss: 0.4305 - val_accuracy: 0.7756 - val_loss: 0.4991\n"
     ]
    }
   ],
   "source": [
    "# Compute class weights\n",
    "trainPaths = list(paths.list_images(TRAIN_PATH))\n",
    "trainLabels = [int(p.split(os.path.sep)[-2]) for p in trainPaths]\n",
    "from tensorflow.keras.utils import to_categorical\n",
    "trainLabels = to_categorical(trainLabels, num_classes=2)\n",
    "\n",
    "classTotals = trainLabels.sum(axis=0)\n",
    "classWeight = classTotals.max() / classTotals\n",
    "\n",
    "# Build and compile model\n",
    "model = CancerNet.build(width=48, height=48, depth=3, classes=2)\n",
    "model.compile(loss=\"binary_crossentropy\", optimizer=\"adam\", metrics=[\"accuracy\"])\n",
    "\n",
    "# Train the model\n",
    "H = model.fit(\n",
    "    x=trainGen,\n",
    "    validation_data=valGen,\n",
    "    epochs=NUM_EPOCHS\n",
    ")\n"
   ]
  },
  {
   "cell_type": "code",
   "execution_count": 10,
   "id": "d6c1975a-351f-46f5-8143-1746acce18d6",
   "metadata": {},
   "outputs": [
    {
     "name": "stdout",
     "output_type": "stream",
     "text": [
      "Now evaluating the model\n",
      "\u001b[1m1735/1735\u001b[0m \u001b[32m━━━━━━━━━━━━━━━━━━━━\u001b[0m\u001b[37m\u001b[0m \u001b[1m1233s\u001b[0m 710ms/step\n",
      "              precision    recall  f1-score   support\n",
      "\n",
      "           0       0.77      0.98      0.87     39736\n",
      "           1       0.86      0.28      0.42     15769\n",
      "\n",
      "    accuracy                           0.78     55505\n",
      "   macro avg       0.82      0.63      0.64     55505\n",
      "weighted avg       0.80      0.78      0.74     55505\n",
      "\n",
      "[[39009   727]\n",
      " [11386  4383]]\n",
      "Accuracy: 0.7817674083415909\n",
      "Specificity: 0.27795040903037604\n",
      "Sensitivity: 0.9817042480370445\n"
     ]
    }
   ],
   "source": [
    "# Evaluate the model\n",
    "print(\"Now evaluating the model\")\n",
    "testGen.reset()\n",
    "lenTest = len(list(paths.list_images(TEST_PATH)))\n",
    "pred_indices = model.predict(testGen, steps=(lenTest // BS) + 1)\n",
    "pred_indices = np.argmax(pred_indices, axis=1)\n",
    "\n",
    "print(classification_report(testGen.classes, pred_indices,\n",
    "                            target_names=testGen.class_indices.keys()))\n",
    "\n",
    "# Confusion matrix and metrics\n",
    "cm = confusion_matrix(testGen.classes, pred_indices)\n",
    "total = sum(sum(cm))\n",
    "accuracy = (cm[0, 0] + cm[1, 1]) / total\n",
    "specificity = cm[1, 1] / (cm[1, 0] + cm[1, 1])\n",
    "sensitivity = cm[0, 0] / (cm[0, 0] + cm[0, 1])\n",
    "\n",
    "print(cm)\n",
    "print(f\"Accuracy: {accuracy}\")\n",
    "print(f\"Specificity: {specificity}\")\n",
    "print(f\"Sensitivity: {sensitivity}\")"
   ]
  },
  {
   "cell_type": "code",
   "execution_count": 11,
   "id": "dc86a8c7-8cde-4744-a3db-ddb31a914806",
   "metadata": {},
   "outputs": [
    {
     "data": {
      "image/png": "[encoded data removed]",
      "text/plain": [
       "<Figure size 640x480 with 1 Axes>"
      ]
     },
     "metadata": {},
     "output_type": "display_data"
    }
   ],
   "source": [
    "# Plot training history\n",
    "plt.style.use(\"ggplot\")\n",
    "plt.figure()\n",
    "plt.plot(np.arange(0, NUM_EPOCHS), H.history[\"loss\"], label=\"train_loss\")\n",
    "plt.plot(np.arange(0, NUM_EPOCHS), H.history[\"val_loss\"], label=\"val_loss\")\n",
    "plt.plot(np.arange(0, NUM_EPOCHS), H.history[\"accuracy\"], label=\"train_acc\")\n",
    "plt.plot(np.arange(0, NUM_EPOCHS), H.history[\"val_accuracy\"], label=\"val_acc\")\n",
    "plt.title(\"Training Loss and Accuracy on the IDC Dataset\")\n",
    "plt.xlabel(\"Epoch No.\")\n",
    "plt.ylabel(\"Loss/Accuracy\")\n",
    "plt.legend(loc=\"lower left\")\n",
    "plt.savefig(\"plot.png\")"
   ]
  },
  {
   "cell_type": "code",
   "execution_count": null,
   "id": "c76a85a3-ff03-482d-96ee-7a8b012d8975",
   "metadata": {},
   "outputs": [],
   "source": []
  }
 ],
 "metadata": {
  "kernelspec": {
   "display_name": "Python 3 (ipykernel)",
   "language": "python",
   "name": "python3"
  },
  "language_info": {
   "codemirror_mode": {
    "name": "ipython",
    "version": 3
   },
   "file_extension": ".py",
   "mimetype": "text/x-python",
   "name": "python",
   "nbconvert_exporter": "python",
   "pygments_lexer": "ipython3",
   "version": "3.12.7"
  }
 },
 "nbformat": 4,
 "nbformat_minor": 5
}
