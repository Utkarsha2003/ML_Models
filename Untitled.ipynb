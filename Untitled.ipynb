{
 "cells": [
  {
   "cell_type": "code",
   "execution_count": null,
   "id": "0180ba0f-d4c9-4b99-bd92-a4729d1e3353",
   "metadata": {},
   "outputs": [],
   "source": []
  }
 ],
 "metadata": {
  "kernelspec": {
   "display_name": "",
   "name": ""
  },
  "language_info": {
   "name": ""
  }
 },
 "nbformat": 4,
 "nbformat_minor": 5
}
4361-b9f0-4e7bc01c2543",
   "1f180eaa-b151-4103-b823-460dd94bc7b2",
   "d5aa105a-24b2-481b-bd5f-c480ace0f1bc",
   "7c7fd333-00ca-4e52-8ecf-5c0a3f8dc928",
   "42c11230-a8fc-4363-a446-6a3d7c55ce7a",
   "9bd46733-ab43-4aef-b495-7e8ef2311a2e"
  ]
 },
 "nbformat": 4,
 "nbformat_minor": 5
}
